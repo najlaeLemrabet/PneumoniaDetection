{
 "cells": [
  {
   "cell_type": "code",
   "execution_count": null,
   "id": "worst-asian",
   "metadata": {},
   "outputs": [],
   "source": [
    "import os\n",
    "import matplotlib.pyplot as plt\n",
    "import numpy as np\n",
    "from tqdm import tqdm\n",
    "from PIL import Image\n",
    "import torchvision.transforms as transforms\n",
    "import torch\n",
    "from torchvision import transforms, datasets\n",
    "import torch.nn as nn\n",
    "import torch.nn.functional as F\n",
    "import torchvision.models as models"
   ]
  },
  {
   "cell_type": "code",
   "execution_count": null,
   "id": "dietary-landscape",
   "metadata": {},
   "outputs": [],
   "source": [
    "def hot_encode(x):\n",
    "    num_classes = 2\n",
    "    return torch.eye(num_classes)[x]"
   ]
  },
  {
   "cell_type": "code",
   "execution_count": null,
   "id": "everyday-recorder",
   "metadata": {},
   "outputs": [],
   "source": [
    "data_transforms = transforms.Compose([transforms.Resize((100,100)),             # resize the input to 224x224\n",
    "                                      transforms.ToTensor(),              # put the input to tensor format\n",
    "                                      transforms.Normalize([0.485, 0.456, 0.406], [0.229, 0.224, 0.225])  # normalize the input\n",
    "                                    ])\n",
    "## load dataset from the folder\n",
    "dataset = datasets.ImageFolder(\"dataset\",transform=data_transforms,target_transform=hot_encode)\n",
    "\n",
    "## split data\n",
    "train_size = int(np.floor(len(dataset)*0.8))\n",
    "test_size = len(dataset) - train_size\n",
    "train_data, test_data = torch.utils.data.random_split(dataset, [train_size, test_size])"
   ]
  },
  {
   "cell_type": "markdown",
   "id": "automotive-banking",
   "metadata": {},
   "source": [
    "## Build Neural Network"
   ]
  },
  {
   "cell_type": "code",
   "execution_count": null,
   "id": "intense-stranger",
   "metadata": {},
   "outputs": [],
   "source": [
    "class Identity(nn.Module):\n",
    "    def __init__(self):\n",
    "        super().__init__()\n",
    "    def forward(self,x):\n",
    "        return x        \n",
    "    \n",
    "class classifier(nn.Module):\n",
    "    def __init__(self):\n",
    "        super().__init__()\n",
    "        self.fc1 = nn.Linear(4608,265)\n",
    "        self.leakyrelu = nn.LeakyReLU(0.001)\n",
    "        self.dropout = nn.Dropout(0.5)\n",
    "        self.fc2 = nn.Linear(265,128)\n",
    "        self.fc3 = nn.Linear(128,2)\n",
    "        \n",
    "    def forward(self,x):\n",
    "        x = self.dropout(self.leakyrelu(self.fc1(x)))\n",
    "        x = self.dropout(self.leakyrelu(self.fc2(x)))\n",
    "        x = self.fc3(x)\n",
    "        return F.softmax(x,dim = 1)"
   ]
  },
  {
   "cell_type": "code",
   "execution_count": null,
   "id": "purple-flashing",
   "metadata": {},
   "outputs": [],
   "source": [
    "device = \"cuda\" if torch.cuda.is_available()  else \"cpu\""
   ]
  },
  {
   "cell_type": "code",
   "execution_count": null,
   "id": "formed-effect",
   "metadata": {},
   "outputs": [],
   "source": [
    "vgg16 = models.vgg16(pretrained=True)\n",
    "for param in vgg16.parameters():\n",
    "    param.requires_grad = False\n",
    "vgg16.avgpool = Identity()\n",
    "vgg16.classifier = classifier()\n",
    "vgg16.to(device)"
   ]
  },
  {
   "cell_type": "markdown",
   "id": "generic-radiation",
   "metadata": {},
   "source": [
    "## Training"
   ]
  },
  {
   "cell_type": "code",
   "execution_count": null,
   "id": "general-expression",
   "metadata": {},
   "outputs": [],
   "source": [
    "EPOCH = 10\n",
    "LR = 0.001\n",
    "BATCH_SIZE = 64\n",
    "loss_function = nn.MSELoss()\n",
    "optimizer = torch.optim.Adam(vgg16.parameters(), lr=LR)"
   ]
  },
  {
   "cell_type": "code",
   "execution_count": null,
   "id": "ready-candidate",
   "metadata": {},
   "outputs": [],
   "source": [
    "train_loader = torch.utils.data.DataLoader(train_data, batch_size=BATCH_SIZE, shuffle=True)\n",
    "test_loader = torch.utils.data.DataLoader(test_data, batch_size=BATCH_SIZE, shuffle=True)"
   ]
  },
  {
   "cell_type": "code",
   "execution_count": null,
   "id": "recovered-black",
   "metadata": {},
   "outputs": [],
   "source": [
    "def train(model):\n",
    "    for epoch in range(EPOCH):\n",
    "        losses = []\n",
    "        accuracies = []\n",
    "        for batch in tqdm(train_loader):\n",
    "            X_batch ,Y_batch = batch[0].view(-1,3,100,100).to(device), batch[1].to(device)\n",
    "\n",
    "            output = model(X_batch)\n",
    "            loss = loss_function(output, Y_batch)\n",
    "            losses.append(loss)\n",
    "            vgg16.zero_grad()\n",
    "            loss.backward()\n",
    "            optimizer.step()\n",
    "            ## find accuarcy\n",
    "            matches = [torch.argmax(a) == torch.argmax(b) for a,b in zip(output, Y_batch)]\n",
    "            accuracy = matches.count(True)/len(matches)\n",
    "            accuracies.append(accuracy)\n",
    "        print(f\"Loss at epoch {epoch} is {sum(losses)/len(losses):.5f}\")\n",
    "        print(f\"Accuracy at epoch {epoch} is {sum(accuracies)/len(accuracies):.5f}\")\n"
   ]
  },
  {
   "cell_type": "code",
   "execution_count": null,
   "id": "eleven-killing",
   "metadata": {},
   "outputs": [],
   "source": [
    "train(vgg16)"
   ]
  },
  {
   "cell_type": "code",
   "execution_count": null,
   "id": "external-mention",
   "metadata": {},
   "outputs": [],
   "source": [
    "def test(net):\n",
    "    correct = 0\n",
    "    total = 0\n",
    "    with torch.no_grad():\n",
    "        for batch in tqdm(test_loader):\n",
    "            X_batch ,Y_batch = batch[0].view(-1,3,100,100).to(device), batch[1].to(device)\n",
    "            real_class = torch.argmax(Y_batch).to(device)\n",
    "            net_out = vgg16(X_batch.view(-1, 3, 100, 100).to(device))[0]\n",
    "\n",
    "            predicted_class = torch.argmax(net_out)\n",
    "            if predicted_class == real_class:\n",
    "                correct += 1\n",
    "            total += 1\n",
    "    print(\"Accuracy:\", round(correct/total,3))"
   ]
  },
  {
   "cell_type": "code",
   "execution_count": null,
   "id": "latin-baghdad",
   "metadata": {},
   "outputs": [],
   "source": [
    "test(vgg16)"
   ]
  },
  {
   "cell_type": "code",
   "execution_count": null,
   "id": "received-lightning",
   "metadata": {},
   "outputs": [],
   "source": []
  },
  {
   "cell_type": "code",
   "execution_count": null,
   "id": "rolled-feedback",
   "metadata": {},
   "outputs": [],
   "source": []
  }
 ],
 "metadata": {
  "kernelspec": {
   "display_name": "Python 3",
   "language": "python",
   "name": "python3"
  },
  "language_info": {
   "codemirror_mode": {
    "name": "ipython",
    "version": 3
   },
   "file_extension": ".py",
   "mimetype": "text/x-python",
   "name": "python",
   "nbconvert_exporter": "python",
   "pygments_lexer": "ipython3",
   "version": "3.8.8"
  }
 },
 "nbformat": 4,
 "nbformat_minor": 5
}
