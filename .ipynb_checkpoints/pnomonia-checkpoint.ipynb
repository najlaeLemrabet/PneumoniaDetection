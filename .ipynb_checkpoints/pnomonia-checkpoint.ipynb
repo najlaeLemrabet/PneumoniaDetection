{
 "cells": [
  {
   "cell_type": "code",
   "execution_count": 1,
   "id": "worst-asian",
   "metadata": {},
   "outputs": [],
   "source": [
    "import os\n",
    "import matplotlib.pyplot as plt\n",
    "import numpy as np\n",
    "from tqdm import tqdm\n",
    "from PIL import Image\n",
    "import torchvision.transforms as transforms\n",
    "import torch\n",
    "from torchvision import transforms, datasets\n",
    "import torch.nn as nn\n",
    "import torch.nn.functional as F\n",
    "import torchvision.models as models"
   ]
  },
  {
   "cell_type": "code",
   "execution_count": 2,
   "id": "dietary-landscape",
   "metadata": {},
   "outputs": [],
   "source": [
    "def hot_encode(x):\n",
    "    num_classes = 2\n",
    "    return torch.eye(num_classes)[x]"
   ]
  },
  {
   "cell_type": "code",
   "execution_count": 3,
   "id": "everyday-recorder",
   "metadata": {},
   "outputs": [],
   "source": [
    "data_transforms = transforms.Compose([transforms.Resize((100,100)),             # resize the input to 224x224\n",
    "                                      transforms.ToTensor(),              # put the input to tensor format\n",
    "                                      transforms.Normalize([0.485, 0.456, 0.406], [0.229, 0.224, 0.225])  # normalize the input\n",
    "                                    ])\n",
    "## load dataset from the folder\n",
    "dataset = datasets.ImageFolder(\"images\",transform=data_transforms,target_transform=hot_encode)\n",
    "\n",
    "## split data\n",
    "train_size = int(np.floor(len(dataset)*0.8))\n",
    "test_size = len(dataset) - train_size\n",
    "train_data, test_data = torch.utils.data.random_split(dataset, [train_size, test_size])\n",
    "\n",
    "## create data loader for both training and testing data\n",
    "train_loader = torch.utils.data.DataLoader(train_data, batch_size=10, shuffle=True)\n",
    "test_loader = torch.utils.data.DataLoader(test_data, batch_size=10, shuffle=True)"
   ]
  },
  {
   "cell_type": "markdown",
   "id": "automotive-banking",
   "metadata": {},
   "source": [
    "## Build Neural Network"
   ]
  },
  {
   "cell_type": "code",
   "execution_count": 7,
   "id": "intense-stranger",
   "metadata": {},
   "outputs": [],
   "source": [
    "class Identity(nn.Module):\n",
    "    def __init__(self):\n",
    "        super().__init__()\n",
    "    def forward(self,x):\n",
    "        return x        \n",
    "    \n",
    "class classifier(nn.Module):\n",
    "    def __init__(self):\n",
    "        super().__init__()\n",
    "        self.fc1 = nn.Linear(4608,265)\n",
    "        self.fc2 = nn.Linear(265,2)\n",
    "    def forward(self,x):\n",
    "        x = F.relu(self.fc1(x))\n",
    "        x = self.fc2(x)\n",
    "        return F.softmax(x,dim = 1)"
   ]
  },
  {
   "cell_type": "code",
   "execution_count": 10,
   "id": "formed-effect",
   "metadata": {
    "collapsed": true
   },
   "outputs": [
    {
     "data": {
      "text/plain": [
       "VGG(\n",
       "  (features): Sequential(\n",
       "    (0): Conv2d(3, 64, kernel_size=(3, 3), stride=(1, 1), padding=(1, 1))\n",
       "    (1): ReLU(inplace=True)\n",
       "    (2): Conv2d(64, 64, kernel_size=(3, 3), stride=(1, 1), padding=(1, 1))\n",
       "    (3): ReLU(inplace=True)\n",
       "    (4): MaxPool2d(kernel_size=2, stride=2, padding=0, dilation=1, ceil_mode=False)\n",
       "    (5): Conv2d(64, 128, kernel_size=(3, 3), stride=(1, 1), padding=(1, 1))\n",
       "    (6): ReLU(inplace=True)\n",
       "    (7): Conv2d(128, 128, kernel_size=(3, 3), stride=(1, 1), padding=(1, 1))\n",
       "    (8): ReLU(inplace=True)\n",
       "    (9): MaxPool2d(kernel_size=2, stride=2, padding=0, dilation=1, ceil_mode=False)\n",
       "    (10): Conv2d(128, 256, kernel_size=(3, 3), stride=(1, 1), padding=(1, 1))\n",
       "    (11): ReLU(inplace=True)\n",
       "    (12): Conv2d(256, 256, kernel_size=(3, 3), stride=(1, 1), padding=(1, 1))\n",
       "    (13): ReLU(inplace=True)\n",
       "    (14): Conv2d(256, 256, kernel_size=(3, 3), stride=(1, 1), padding=(1, 1))\n",
       "    (15): ReLU(inplace=True)\n",
       "    (16): MaxPool2d(kernel_size=2, stride=2, padding=0, dilation=1, ceil_mode=False)\n",
       "    (17): Conv2d(256, 512, kernel_size=(3, 3), stride=(1, 1), padding=(1, 1))\n",
       "    (18): ReLU(inplace=True)\n",
       "    (19): Conv2d(512, 512, kernel_size=(3, 3), stride=(1, 1), padding=(1, 1))\n",
       "    (20): ReLU(inplace=True)\n",
       "    (21): Conv2d(512, 512, kernel_size=(3, 3), stride=(1, 1), padding=(1, 1))\n",
       "    (22): ReLU(inplace=True)\n",
       "    (23): MaxPool2d(kernel_size=2, stride=2, padding=0, dilation=1, ceil_mode=False)\n",
       "    (24): Conv2d(512, 512, kernel_size=(3, 3), stride=(1, 1), padding=(1, 1))\n",
       "    (25): ReLU(inplace=True)\n",
       "    (26): Conv2d(512, 512, kernel_size=(3, 3), stride=(1, 1), padding=(1, 1))\n",
       "    (27): ReLU(inplace=True)\n",
       "    (28): Conv2d(512, 512, kernel_size=(3, 3), stride=(1, 1), padding=(1, 1))\n",
       "    (29): ReLU(inplace=True)\n",
       "    (30): MaxPool2d(kernel_size=2, stride=2, padding=0, dilation=1, ceil_mode=False)\n",
       "  )\n",
       "  (avgpool): Identity()\n",
       "  (classifier): classifier(\n",
       "    (fc1): Linear(in_features=4608, out_features=265, bias=True)\n",
       "    (fc2): Linear(in_features=265, out_features=2, bias=True)\n",
       "  )\n",
       ")"
      ]
     },
     "execution_count": 10,
     "metadata": {},
     "output_type": "execute_result"
    }
   ],
   "source": [
    "vgg16 = models.vgg16(pretrained=True)\n",
    "for param in vgg16.parameters():\n",
    "    param.requires_grad = False\n",
    "vgg16.avgpool = Identity()\n",
    "vgg16.classifier = classifier()\n",
    "vgg16.to(device)"
   ]
  },
  {
   "cell_type": "code",
   "execution_count": null,
   "id": "undefined-warner",
   "metadata": {},
   "outputs": [],
   "source": [
    "device = \"cuda\" if torch.cuda.is_available()  else \"cpu\""
   ]
  },
  {
   "cell_type": "markdown",
   "id": "generic-radiation",
   "metadata": {},
   "source": [
    "## Training"
   ]
  },
  {
   "cell_type": "code",
   "execution_count": 12,
   "id": "general-expression",
   "metadata": {},
   "outputs": [],
   "source": [
    "EPOCH = 10\n",
    "LR = 0.001\n",
    "loss_function = nn.MSELoss()\n",
    "optimizer = torch.optim.Adam(vgg16.parameters(), lr=LR)"
   ]
  },
  {
   "cell_type": "code",
   "execution_count": 23,
   "id": "recovered-black",
   "metadata": {},
   "outputs": [],
   "source": [
    "def train(model):\n",
    "    for epoch in range(EPOCH):\n",
    "        losses = []\n",
    "        accuracies = []\n",
    "        for batch in tqdm(train_loader):\n",
    "            X_batch ,Y_batch = batch[0].view(-1,3,100,100).to(device), batch[1].to(device)\n",
    "\n",
    "            output = model(X_batch)\n",
    "            loss = loss_function(output, Y_batch)\n",
    "            losses.append(loss)\n",
    "            vgg16.zero_grad()\n",
    "            loss.backward()\n",
    "            optimizer.step()\n",
    "            ## find accuarcy\n",
    "            matches = [torch.argmax(a) == torch.argmax(b) for a,b in zip(output, Y_batch)]\n",
    "            accuracy = matches.count(True)/len(matches)\n",
    "            accuracies.append(accuracy)\n",
    "        print(f\"Loss at epoch {epoch} is {sum(losses)/len(losses):.5f}\")\n",
    "        print(f\"Accuracy at epoch {epoch} is {sum(accuracies)/len(accuracies):.5f}\")\n"
   ]
  },
  {
   "cell_type": "code",
   "execution_count": 24,
   "id": "eleven-killing",
   "metadata": {
    "collapsed": true
   },
   "outputs": [
    {
     "name": "stderr",
     "output_type": "stream",
     "text": [
      "100%|████████████████████████████████████████████████████████████████████████████████| 469/469 [01:11<00:00,  6.56it/s]\n",
      "  0%|▏                                                                                 | 1/469 [00:00<00:59,  7.84it/s]"
     ]
    },
    {
     "name": "stdout",
     "output_type": "stream",
     "text": [
      "Loss at epoch 0 is 0.01515\n",
      "Accuracy at epoch 0 is 0.98166\n"
     ]
    },
    {
     "name": "stderr",
     "output_type": "stream",
     "text": [
      "100%|████████████████████████████████████████████████████████████████████████████████| 469/469 [01:10<00:00,  6.66it/s]\n",
      "  0%|▏                                                                                 | 1/469 [00:00<01:13,  6.37it/s]"
     ]
    },
    {
     "name": "stdout",
     "output_type": "stream",
     "text": [
      "Loss at epoch 1 is 0.01176\n",
      "Accuracy at epoch 1 is 0.98678\n"
     ]
    },
    {
     "name": "stderr",
     "output_type": "stream",
     "text": [
      "100%|████████████████████████████████████████████████████████████████████████████████| 469/469 [01:10<00:00,  6.70it/s]\n",
      "  0%|▏                                                                                 | 1/469 [00:00<01:04,  7.25it/s]"
     ]
    },
    {
     "name": "stdout",
     "output_type": "stream",
     "text": [
      "Loss at epoch 2 is 0.01014\n",
      "Accuracy at epoch 2 is 0.98742\n"
     ]
    },
    {
     "name": "stderr",
     "output_type": "stream",
     "text": [
      "100%|████████████████████████████████████████████████████████████████████████████████| 469/469 [01:10<00:00,  6.68it/s]\n",
      "  0%|▏                                                                                 | 1/469 [00:00<01:00,  7.69it/s]"
     ]
    },
    {
     "name": "stdout",
     "output_type": "stream",
     "text": [
      "Loss at epoch 3 is 0.01319\n",
      "Accuracy at epoch 3 is 0.98443\n"
     ]
    },
    {
     "name": "stderr",
     "output_type": "stream",
     "text": [
      "100%|████████████████████████████████████████████████████████████████████████████████| 469/469 [01:10<00:00,  6.69it/s]\n",
      "  0%|▏                                                                                 | 1/469 [00:00<00:59,  7.81it/s]"
     ]
    },
    {
     "name": "stdout",
     "output_type": "stream",
     "text": [
      "Loss at epoch 4 is 0.01042\n",
      "Accuracy at epoch 4 is 0.98763\n"
     ]
    },
    {
     "name": "stderr",
     "output_type": "stream",
     "text": [
      "100%|████████████████████████████████████████████████████████████████████████████████| 469/469 [01:09<00:00,  6.72it/s]\n",
      "  0%|▏                                                                                 | 1/469 [00:00<01:07,  6.94it/s]"
     ]
    },
    {
     "name": "stdout",
     "output_type": "stream",
     "text": [
      "Loss at epoch 5 is 0.01008\n",
      "Accuracy at epoch 5 is 0.98849\n"
     ]
    },
    {
     "name": "stderr",
     "output_type": "stream",
     "text": [
      "100%|████████████████████████████████████████████████████████████████████████████████| 469/469 [01:09<00:00,  6.75it/s]\n",
      "  0%|                                                                                          | 0/469 [00:00<?, ?it/s]"
     ]
    },
    {
     "name": "stdout",
     "output_type": "stream",
     "text": [
      "Loss at epoch 6 is 0.01619\n",
      "Accuracy at epoch 6 is 0.98145\n"
     ]
    },
    {
     "name": "stderr",
     "output_type": "stream",
     "text": [
      "100%|████████████████████████████████████████████████████████████████████████████████| 469/469 [01:09<00:00,  6.76it/s]\n",
      "  0%|▏                                                                                 | 1/469 [00:00<01:07,  6.90it/s]"
     ]
    },
    {
     "name": "stdout",
     "output_type": "stream",
     "text": [
      "Loss at epoch 7 is 0.01298\n",
      "Accuracy at epoch 7 is 0.98593\n"
     ]
    },
    {
     "name": "stderr",
     "output_type": "stream",
     "text": [
      "100%|████████████████████████████████████████████████████████████████████████████████| 469/469 [01:09<00:00,  6.77it/s]\n",
      "  0%|▏                                                                                 | 1/469 [00:00<01:09,  6.71it/s]"
     ]
    },
    {
     "name": "stdout",
     "output_type": "stream",
     "text": [
      "Loss at epoch 8 is 0.01056\n",
      "Accuracy at epoch 8 is 0.98806\n"
     ]
    },
    {
     "name": "stderr",
     "output_type": "stream",
     "text": [
      "100%|████████████████████████████████████████████████████████████████████████████████| 469/469 [01:09<00:00,  6.76it/s]"
     ]
    },
    {
     "name": "stdout",
     "output_type": "stream",
     "text": [
      "Loss at epoch 9 is 0.00976\n",
      "Accuracy at epoch 9 is 0.98849\n"
     ]
    },
    {
     "name": "stderr",
     "output_type": "stream",
     "text": [
      "\n"
     ]
    }
   ],
   "source": [
    "train(vgg16)"
   ]
  },
  {
   "cell_type": "code",
   "execution_count": 25,
   "id": "external-mention",
   "metadata": {},
   "outputs": [],
   "source": [
    "def test(net):\n",
    "    correct = 0\n",
    "    total = 0\n",
    "    with torch.no_grad():\n",
    "        for batch in tqdm(test_loader):\n",
    "            X_batch ,Y_batch = batch[0].view(-1,3,100,100).to(device), batch[1].to(device)\n",
    "            real_class = torch.argmax(Y_batch).to(device)\n",
    "            net_out = vgg16(X_batch.view(-1, 3, 100, 100).to(device))[0]\n",
    "\n",
    "            predicted_class = torch.argmax(net_out)\n",
    "            if predicted_class == real_class:\n",
    "                correct += 1\n",
    "            total += 1\n",
    "    print(\"Accuracy:\", round(correct/total,3))"
   ]
  },
  {
   "cell_type": "code",
   "execution_count": 26,
   "id": "latin-baghdad",
   "metadata": {
    "collapsed": true
   },
   "outputs": [
    {
     "name": "stderr",
     "output_type": "stream",
     "text": [
      "100%|████████████████████████████████████████████████████████████████████████████████| 118/118 [00:18<00:00,  6.45it/s]"
     ]
    },
    {
     "name": "stdout",
     "output_type": "stream",
     "text": [
      "Accuracy: 0.983\n"
     ]
    },
    {
     "name": "stderr",
     "output_type": "stream",
     "text": [
      "\n"
     ]
    }
   ],
   "source": [
    "test(vgg16)"
   ]
  },
  {
   "cell_type": "code",
   "execution_count": null,
   "id": "received-lightning",
   "metadata": {},
   "outputs": [],
   "source": []
  }
 ],
 "metadata": {
  "kernelspec": {
   "display_name": "Python 3",
   "language": "python",
   "name": "python3"
  },
  "language_info": {
   "codemirror_mode": {
    "name": "ipython",
    "version": 3
   },
   "file_extension": ".py",
   "mimetype": "text/x-python",
   "name": "python",
   "nbconvert_exporter": "python",
   "pygments_lexer": "ipython3",
   "version": "3.8.8"
  }
 },
 "nbformat": 4,
 "nbformat_minor": 5
}
