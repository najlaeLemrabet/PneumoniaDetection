{
 "cells": [
  {
   "cell_type": "code",
   "execution_count": 1,
   "id": "worst-asian",
   "metadata": {},
   "outputs": [],
   "source": [
    "import torch\n",
    "import torch.nn as nn\n",
    "import torch.nn.functional as F\n",
    "import torchvision.models as models\n",
    "import torchvision.transforms as transforms\n",
    "from torchvision import transforms, datasets\n",
    "import numpy as np\n",
    "from tqdm import tqdm"
   ]
  },
  {
   "cell_type": "markdown",
   "id": "accurate-adoption",
   "metadata": {},
   "source": [
    "## Data Preprocessing"
   ]
  },
  {
   "cell_type": "code",
   "execution_count": 2,
   "id": "dietary-landscape",
   "metadata": {},
   "outputs": [],
   "source": [
    "def hot_encode(x):\n",
    "    num_classes = 2\n",
    "    return torch.eye(num_classes)[x]"
   ]
  },
  {
   "cell_type": "code",
   "execution_count": 3,
   "id": "everyday-recorder",
   "metadata": {},
   "outputs": [],
   "source": [
    "data_transforms = transforms.Compose([transforms.Resize((100,100)),             # resize the input to 100x100\n",
    "                                      transforms.ToTensor(),              # convert the input to tensor format\n",
    "                                      transforms.Normalize([0.485, 0.456, 0.406], [0.229, 0.224, 0.225])  # normalize the input\n",
    "                                    ])\n",
    "## load dataset from the folder\n",
    "dataset = datasets.ImageFolder(\"dataset\",transform=data_transforms,target_transform=hot_encode)\n",
    "\n",
    "## split data\n",
    "train_size = int(np.floor(len(dataset)*0.8))\n",
    "test_size = len(dataset) - train_size\n",
    "train_data, test_data = torch.utils.data.random_split(dataset, [train_size, test_size])"
   ]
  },
  {
   "cell_type": "markdown",
   "id": "automotive-banking",
   "metadata": {},
   "source": [
    "## Build Neural Network"
   ]
  },
  {
   "cell_type": "code",
   "execution_count": 4,
   "id": "intense-stranger",
   "metadata": {},
   "outputs": [],
   "source": [
    "class Identity(nn.Module):\n",
    "    def __init__(self):\n",
    "        super().__init__()\n",
    "    def forward(self,x):\n",
    "        return x        \n",
    "    \n",
    "class classifier(nn.Module):\n",
    "    def __init__(self):\n",
    "        super().__init__()\n",
    "        self.fc1 = nn.Linear(4608,265)\n",
    "        self.leakyrelu = nn.LeakyReLU(0.001)\n",
    "        self.dropout = nn.Dropout(0.5)\n",
    "        self.fc2 = nn.Linear(265,128)\n",
    "        self.fc3 = nn.Linear(128,2)\n",
    "        \n",
    "    def forward(self,x):\n",
    "        x = self.dropout(self.leakyrelu(self.fc1(x)))\n",
    "        x = self.dropout(self.leakyrelu(self.fc2(x)))\n",
    "        x = self.fc3(x)\n",
    "        return F.softmax(x,dim = 1)"
   ]
  },
  {
   "cell_type": "code",
   "execution_count": 5,
   "id": "purple-flashing",
   "metadata": {},
   "outputs": [],
   "source": [
    "device = \"cuda\" if torch.cuda.is_available()  else \"cpu\""
   ]
  },
  {
   "cell_type": "code",
   "execution_count": 6,
   "id": "formed-effect",
   "metadata": {
    "collapsed": true
   },
   "outputs": [
    {
     "data": {
      "text/plain": [
       "VGG(\n",
       "  (features): Sequential(\n",
       "    (0): Conv2d(3, 64, kernel_size=(3, 3), stride=(1, 1), padding=(1, 1))\n",
       "    (1): ReLU(inplace=True)\n",
       "    (2): Conv2d(64, 64, kernel_size=(3, 3), stride=(1, 1), padding=(1, 1))\n",
       "    (3): ReLU(inplace=True)\n",
       "    (4): MaxPool2d(kernel_size=2, stride=2, padding=0, dilation=1, ceil_mode=False)\n",
       "    (5): Conv2d(64, 128, kernel_size=(3, 3), stride=(1, 1), padding=(1, 1))\n",
       "    (6): ReLU(inplace=True)\n",
       "    (7): Conv2d(128, 128, kernel_size=(3, 3), stride=(1, 1), padding=(1, 1))\n",
       "    (8): ReLU(inplace=True)\n",
       "    (9): MaxPool2d(kernel_size=2, stride=2, padding=0, dilation=1, ceil_mode=False)\n",
       "    (10): Conv2d(128, 256, kernel_size=(3, 3), stride=(1, 1), padding=(1, 1))\n",
       "    (11): ReLU(inplace=True)\n",
       "    (12): Conv2d(256, 256, kernel_size=(3, 3), stride=(1, 1), padding=(1, 1))\n",
       "    (13): ReLU(inplace=True)\n",
       "    (14): Conv2d(256, 256, kernel_size=(3, 3), stride=(1, 1), padding=(1, 1))\n",
       "    (15): ReLU(inplace=True)\n",
       "    (16): MaxPool2d(kernel_size=2, stride=2, padding=0, dilation=1, ceil_mode=False)\n",
       "    (17): Conv2d(256, 512, kernel_size=(3, 3), stride=(1, 1), padding=(1, 1))\n",
       "    (18): ReLU(inplace=True)\n",
       "    (19): Conv2d(512, 512, kernel_size=(3, 3), stride=(1, 1), padding=(1, 1))\n",
       "    (20): ReLU(inplace=True)\n",
       "    (21): Conv2d(512, 512, kernel_size=(3, 3), stride=(1, 1), padding=(1, 1))\n",
       "    (22): ReLU(inplace=True)\n",
       "    (23): MaxPool2d(kernel_size=2, stride=2, padding=0, dilation=1, ceil_mode=False)\n",
       "    (24): Conv2d(512, 512, kernel_size=(3, 3), stride=(1, 1), padding=(1, 1))\n",
       "    (25): ReLU(inplace=True)\n",
       "    (26): Conv2d(512, 512, kernel_size=(3, 3), stride=(1, 1), padding=(1, 1))\n",
       "    (27): ReLU(inplace=True)\n",
       "    (28): Conv2d(512, 512, kernel_size=(3, 3), stride=(1, 1), padding=(1, 1))\n",
       "    (29): ReLU(inplace=True)\n",
       "    (30): MaxPool2d(kernel_size=2, stride=2, padding=0, dilation=1, ceil_mode=False)\n",
       "  )\n",
       "  (avgpool): Identity()\n",
       "  (classifier): classifier(\n",
       "    (fc1): Linear(in_features=4608, out_features=265, bias=True)\n",
       "    (leakyrelu): LeakyReLU(negative_slope=0.001)\n",
       "    (dropout): Dropout(p=0.5, inplace=False)\n",
       "    (fc2): Linear(in_features=265, out_features=128, bias=True)\n",
       "    (fc3): Linear(in_features=128, out_features=2, bias=True)\n",
       "  )\n",
       ")"
      ]
     },
     "execution_count": 6,
     "metadata": {},
     "output_type": "execute_result"
    }
   ],
   "source": [
    "vgg16 = models.vgg16(pretrained=True)\n",
    "for param in vgg16.parameters():\n",
    "    param.requires_grad = False\n",
    "vgg16.avgpool = Identity()\n",
    "vgg16.classifier = classifier()\n",
    "vgg16.to(device)"
   ]
  },
  {
   "cell_type": "markdown",
   "id": "generic-radiation",
   "metadata": {},
   "source": [
    "## Training"
   ]
  },
  {
   "cell_type": "code",
   "execution_count": 7,
   "id": "general-expression",
   "metadata": {},
   "outputs": [],
   "source": [
    "EPOCH = 10\n",
    "LR = 0.001\n",
    "BATCH_SIZE = 64\n",
    "loss_function = nn.MSELoss()\n",
    "optimizer = torch.optim.Adam(vgg16.parameters(), lr=LR)"
   ]
  },
  {
   "cell_type": "code",
   "execution_count": 8,
   "id": "ready-candidate",
   "metadata": {},
   "outputs": [],
   "source": [
    "train_loader = torch.utils.data.DataLoader(train_data, batch_size=BATCH_SIZE, shuffle=True)\n",
    "test_loader = torch.utils.data.DataLoader(test_data, batch_size=BATCH_SIZE, shuffle=True)"
   ]
  },
  {
   "cell_type": "code",
   "execution_count": 9,
   "id": "recovered-black",
   "metadata": {},
   "outputs": [],
   "source": [
    "def train(model):\n",
    "    for epoch in range(EPOCH):\n",
    "        losses = []\n",
    "        accuracies = []\n",
    "        for batch in tqdm(train_loader):\n",
    "            X_batch ,Y_batch = batch[0].view(-1,3,100,100).to(device), batch[1].to(device)\n",
    "\n",
    "            output = model(X_batch)\n",
    "            loss = loss_function(output, Y_batch)\n",
    "            losses.append(loss)\n",
    "            vgg16.zero_grad()\n",
    "            loss.backward()\n",
    "            optimizer.step()\n",
    "            ## find accuarcy\n",
    "            matches = [torch.argmax(a) == torch.argmax(b) for a,b in zip(output, Y_batch)]\n",
    "            accuracy = matches.count(True)/len(matches)\n",
    "            accuracies.append(accuracy)\n",
    "        print(f\"Loss at epoch {epoch} is {sum(losses)/len(losses):.5f}\")\n",
    "        print(f\"Accuracy at epoch {epoch} is {sum(accuracies)/len(accuracies):.5f}\")\n"
   ]
  },
  {
   "cell_type": "code",
   "execution_count": null,
   "id": "eleven-killing",
   "metadata": {},
   "outputs": [
    {
     "name": "stderr",
     "output_type": "stream",
     "text": [
      "100%|██████████████████████████████████████████████████████████████████████████████████| 74/74 [01:41<00:00,  1.38s/it]\n",
      "  0%|                                                                                           | 0/74 [00:00<?, ?it/s]"
     ]
    },
    {
     "name": "stdout",
     "output_type": "stream",
     "text": [
      "Loss at epoch 0 is 0.01213\n",
      "Accuracy at epoch 0 is 0.98480\n"
     ]
    },
    {
     "name": "stderr",
     "output_type": "stream",
     "text": [
      " 47%|██████████████████████████████████████▊                                           | 35/74 [00:46<00:49,  1.26s/it]"
     ]
    }
   ],
   "source": [
    "train(vgg16)"
   ]
  },
  {
   "cell_type": "markdown",
   "id": "decent-basin",
   "metadata": {},
   "source": [
    "## Evaluation"
   ]
  },
  {
   "cell_type": "code",
   "execution_count": 12,
   "id": "external-mention",
   "metadata": {},
   "outputs": [],
   "source": [
    "def test(net):\n",
    "    correct = 0\n",
    "    total = 0\n",
    "    with torch.no_grad():\n",
    "        for batch in tqdm(test_loader):\n",
    "            X_batch ,Y_batch = batch[0].view(-1,3,100,100).to(device), batch[1].to(device)\n",
    "            real_class = torch.argmax(Y_batch).to(device)\n",
    "            net_out = vgg16(X_batch.view(-1, 3, 100, 100).to(device))[0]\n",
    "\n",
    "            predicted_class = torch.argmax(net_out)\n",
    "            if predicted_class == real_class:\n",
    "                correct += 1\n",
    "            total += 1\n",
    "    print(\"Accuracy:\", round(correct/total,3))"
   ]
  },
  {
   "cell_type": "code",
   "execution_count": 13,
   "id": "latin-baghdad",
   "metadata": {},
   "outputs": [
    {
     "name": "stderr",
     "output_type": "stream",
     "text": [
      "100%|██████████████████████████████████████████████████████████████████████████████████| 19/19 [00:25<00:00,  1.34s/it]"
     ]
    },
    {
     "name": "stdout",
     "output_type": "stream",
     "text": [
      "Accuracy: 0.895\n"
     ]
    },
    {
     "name": "stderr",
     "output_type": "stream",
     "text": [
      "\n"
     ]
    }
   ],
   "source": [
    "test(vgg16)"
   ]
  }
 ],
 "metadata": {
  "kernelspec": {
   "display_name": "Python 3",
   "language": "python",
   "name": "python3"
  },
  "language_info": {
   "codemirror_mode": {
    "name": "ipython",
    "version": 3
   },
   "file_extension": ".py",
   "mimetype": "text/x-python",
   "name": "python",
   "nbconvert_exporter": "python",
   "pygments_lexer": "ipython3",
   "version": "3.8.8"
  }
 },
 "nbformat": 4,
 "nbformat_minor": 5
}
